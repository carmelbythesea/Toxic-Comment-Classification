{
  "cells": [
    {
      "cell_type": "code",
      "execution_count": 27,
      "metadata": {
        "_cell_guid": "2f9b7a76-8625-443d-811f-8f49781aef81",
        "_uuid": "598f965bc881cfe6605d92903b758778d400fa8b",
        "jupyter": {
          "outputs_hidden": true
        },
        "id": "w1sHtdZo8tTs"
      },
      "outputs": [],
      "source": [
        "import sys, os, re, csv, codecs, numpy as np, pandas as pd\n",
        "from sklearn.model_selection import train_test_split\n",
        "from keras.preprocessing.text import Tokenizer\n",
        "from keras.preprocessing.sequence import pad_sequences\n",
        "from keras.layers import Dense, Input, LSTM, Embedding, Dropout, Activation\n",
        "from keras.layers import Bidirectional, GlobalMaxPool1D\n",
        "from keras.models import Model\n",
        "from keras import initializers, regularizers, constraints, optimizers, layers"
      ]
    },
    {
      "cell_type": "code",
      "execution_count": 2,
      "metadata": {
        "_cell_guid": "66a6b5fd-93f0-4f95-ad62-3253815059ba",
        "_uuid": "729b0f0c2a02c678631b8c072d62ff46146a82ef",
        "jupyter": {
          "outputs_hidden": true
        },
        "id": "uO_VDBTu8tTv"
      },
      "outputs": [],
      "source": [
        "path = '../content/'\n",
        "EMBEDDING_FILE=f'{path}/glove.6B.50d.txt'\n",
        "TRAIN_DATA_FILE=f'{path}train.csv'\n",
        "train = pd.read_csv(TRAIN_DATA_FILE)\n",
        "list_sentences_train = train[\"comment_text\"].fillna(\"null\").values\n",
        "list_classes = [\"toxic\", \"severe_toxic\", \"obscene\", \"threat\", \"insult\", \"identity_hate\"]\n",
        "y = train[list_classes].values"
      ]
    },
    {
      "cell_type": "code",
      "execution_count": 3,
      "metadata": {
        "_cell_guid": "79afc0e9-b5f0-42a2-9257-a72458e91dbb",
        "_uuid": "c292c2830522bfe59d281ecac19f3a9415c07155",
        "jupyter": {
          "outputs_hidden": true
        },
        "id": "-CE59aKf8tTx"
      },
      "outputs": [],
      "source": [
        "embed_size = 50\n",
        "max_features = 20000\n",
        "maxlen = 100\n",
        "tokenizer = Tokenizer(num_words=max_features)\n",
        "tokenizer.fit_on_texts(list(list_sentences_train))\n",
        "tokenized_train = tokenizer.texts_to_sequences(list_sentences_train)\n",
        "X_padded = pad_sequences(tokenized_train, maxlen=maxlen)\n",
        "X_train, X_test, y_train, y_test = train_test_split(X_padded, y, test_size=0.2, random_state=247)"
      ]
    },
    {
      "cell_type": "code",
      "execution_count": 4,
      "metadata": {
        "_cell_guid": "7d19392b-7750-4a1b-ac30-ed75b8a62d52",
        "_uuid": "e9e3b4fa7c4658e0f22dd48cb1a289d9deb745fc",
        "collapsed": true,
        "jupyter": {
          "outputs_hidden": true
        },
        "id": "-laG8HZm8tTy"
      },
      "outputs": [],
      "source": [
        "def get_coefs(word,*arr): \n",
        "  return word, np.asarray(arr, dtype='float32')\n",
        "embeddings_index = dict(get_coefs(*o.strip().split()) for o in open(EMBEDDING_FILE))\n",
        "all_embs = np.stack(embeddings_index.values())\n",
        "emb_mean,emb_std = all_embs.mean(), all_embs.std()"
      ]
    },
    {
      "cell_type": "code",
      "execution_count": 5,
      "metadata": {
        "_cell_guid": "4d29d827-377d-4d2f-8582-4a92f9569719",
        "_uuid": "96fc33012e7f07a2169a150c61574858d49a561b",
        "collapsed": true,
        "jupyter": {
          "outputs_hidden": true
        },
        "colab": {
          "base_uri": "https://localhost:8080/"
        },
        "id": "Q9p8grF48tTz",
        "outputId": "52f8ac76-085d-4c07-89e1-a2f0b7f2ebf8"
      },
      "outputs": [
        {
          "output_type": "stream",
          "name": "stderr",
          "text": [
            "/usr/local/lib/python3.7/dist-packages/IPython/core/interactiveshell.py:2822: FutureWarning: arrays to stack must be passed as a \"sequence\" type such as list or tuple. Support for non-sequence iterables such as generators is deprecated as of NumPy 1.16 and will raise an error in the future.\n",
            "  if self.run_code(code, result):\n"
          ]
        },
        {
          "output_type": "execute_result",
          "data": {
            "text/plain": [
              "(0.020940498, 0.6441043)"
            ]
          },
          "metadata": {},
          "execution_count": 5
        }
      ],
      "source": [
        "emb_mean,emb_std = all_embs.mean(), all_embs.std()"
      ]
    },
    {
      "cell_type": "code",
      "execution_count": 6,
      "metadata": {
        "_cell_guid": "62acac54-0495-4a26-ab63-2520d05b3e19",
        "_uuid": "574c91e270add444a7bc8175440274bdd83b7173",
        "collapsed": true,
        "jupyter": {
          "outputs_hidden": true
        },
        "id": "VyI9Op3b8tTz"
      },
      "outputs": [],
      "source": [
        "word_index = tokenizer.word_index\n",
        "nb_words = min(max_features, len(word_index))\n",
        "embedding_matrix = np.random.normal(emb_mean, emb_std, (nb_words, embed_size))\n",
        "for word, i in word_index.items():\n",
        "    if i >= max_features: continue\n",
        "    embedding_vector = embeddings_index.get(word)\n",
        "    if embedding_vector is not None: embedding_matrix[i] = embedding_vector"
      ]
    },
    {
      "cell_type": "code",
      "execution_count": 7,
      "metadata": {
        "_cell_guid": "0d4cb718-7f9a-4eab-acda-8f55b4712439",
        "_uuid": "dc51af0bd046e1eccc29111a8e2d77bdf7c60d28",
        "collapsed": true,
        "jupyter": {
          "outputs_hidden": true
        },
        "id": "VNNr6XTo8tT0"
      },
      "outputs": [],
      "source": [
        "inp = Input(shape=(maxlen,))\n",
        "x = Embedding(max_features, embed_size, weights=[embedding_matrix])(inp)\n",
        "x = Bidirectional(LSTM(50, return_sequences=True, dropout=0.1, recurrent_dropout=0.1))(x)\n",
        "x = GlobalMaxPool1D()(x)\n",
        "x = Dense(50, activation=\"relu\")(x)\n",
        "x = Dropout(0.15)(x)\n",
        "x = Dense(6, activation=\"sigmoid\")(x)\n",
        "model = Model(inputs=inp, outputs=x)\n",
        "model.compile(loss='binary_crossentropy', optimizer='adam', metrics=['accuracy'])"
      ]
    },
    {
      "cell_type": "code",
      "source": [
        ""
      ],
      "metadata": {
        "id": "sy2KFec_imij"
      },
      "execution_count": 8,
      "outputs": []
    },
    {
      "cell_type": "code",
      "execution_count": 17,
      "metadata": {
        "_cell_guid": "333626f1-a838-4fea-af99-0c78f1ef5f5c",
        "_uuid": "c1558c6b2802fc632edc4510c074555a590efbd8",
        "collapsed": true,
        "jupyter": {
          "outputs_hidden": true
        },
        "colab": {
          "base_uri": "https://localhost:8080/"
        },
        "id": "rw5jBA_z8tT0",
        "outputId": "331387f2-c41a-4377-8089-eaedeff2a37c"
      },
      "outputs": [
        {
          "output_type": "stream",
          "name": "stdout",
          "text": [
            "Epoch 1/10\n",
            "1437/1437 [==============================] - 359s 250ms/step - loss: 0.0415 - accuracy: 0.9401 - val_loss: 0.0435 - val_accuracy: 0.9787\n",
            "Epoch 2/10\n",
            "1437/1437 [==============================] - 362s 252ms/step - loss: 0.0378 - accuracy: 0.9316 - val_loss: 0.0443 - val_accuracy: 0.9921\n",
            "Epoch 3/10\n",
            "1437/1437 [==============================] - 359s 250ms/step - loss: 0.0349 - accuracy: 0.9414 - val_loss: 0.0451 - val_accuracy: 0.7947\n",
            "Epoch 4/10\n",
            "1437/1437 [==============================] - 359s 250ms/step - loss: 0.0324 - accuracy: 0.8954 - val_loss: 0.0453 - val_accuracy: 0.9451\n",
            "Epoch 5/10\n",
            "1437/1437 [==============================] - 358s 249ms/step - loss: 0.0306 - accuracy: 0.9019 - val_loss: 0.0505 - val_accuracy: 0.9917\n",
            "Epoch 6/10\n",
            "1437/1437 [==============================] - 357s 249ms/step - loss: 0.0286 - accuracy: 0.8279 - val_loss: 0.0521 - val_accuracy: 0.8353\n",
            "Epoch 7/10\n",
            "1437/1437 [==============================] - 351s 244ms/step - loss: 0.0268 - accuracy: 0.6981 - val_loss: 0.0531 - val_accuracy: 0.8338\n",
            "Epoch 8/10\n",
            "1437/1437 [==============================] - 349s 243ms/step - loss: 0.0252 - accuracy: 0.6244 - val_loss: 0.0587 - val_accuracy: 0.8959\n",
            "Epoch 9/10\n",
            "1437/1437 [==============================] - 351s 244ms/step - loss: 0.0236 - accuracy: 0.5559 - val_loss: 0.0591 - val_accuracy: 0.4528\n",
            "Epoch 10/10\n",
            "1437/1437 [==============================] - 354s 247ms/step - loss: 0.0222 - accuracy: 0.4617 - val_loss: 0.0599 - val_accuracy: 0.3879\n"
          ]
        }
      ],
      "source": [
        "model.fit(X_train, y_train, batch_size=80, epochs=10, validation_split=0.1);"
      ]
    },
    {
      "cell_type": "code",
      "source": [
        "y_pred_train = model.predict([X_train], batch_size=1024, verbose=1)\n",
        "y_pred_test = model.predict([X_test], batch_size=1024, verbose=1)"
      ],
      "metadata": {
        "id": "p01gxJj5YRdB",
        "colab": {
          "base_uri": "https://localhost:8080/"
        },
        "outputId": "c0180bad-fd0c-43f9-a2e5-6344b92305b8"
      },
      "execution_count": 19,
      "outputs": [
        {
          "output_type": "stream",
          "name": "stdout",
          "text": [
            "125/125 [==============================] - 39s 311ms/step\n",
            "32/32 [==============================] - 9s 271ms/step\n"
          ]
        }
      ]
    },
    {
      "cell_type": "code",
      "source": [
        "from sklearn import metrics\n",
        "from sklearn.metrics import classification_report\n",
        "\n",
        "AUC = np.zeros((2,6))\n",
        "\n",
        "for i,x in enumerate(list_classes):\n",
        "    auc = np.array([metrics.roc_auc_score(y_train[:,i], y_pred_train[:,i]),\n",
        "                    metrics.roc_auc_score(y_test[:,i], y_pred_test[:,i])])\n",
        "    print(x)\n",
        "    print(\"Train AUC:\",auc[0],\"Test AUC:\",auc[1])\n",
        "    AUC[:,i] = auc\n",
        "    \n",
        "    y_pred = np.where(y_pred_test[:,i]>0.5,1,0)\n",
        "    \n",
        "    print(classification_report(y_test[:,i], y_pred))\n",
        "\n",
        "    avg_auc = AUC.mean(axis=1)\n",
        "print(\"Average Train AUC:\",avg_auc[0],\"Average Test AUC:\",avg_auc[1])"
      ],
      "metadata": {
        "colab": {
          "base_uri": "https://localhost:8080/"
        },
        "id": "wVeguJcMRa16",
        "outputId": "b619343b-012e-493b-9cf4-dd35cfa2bc2b"
      },
      "execution_count": 20,
      "outputs": [
        {
          "output_type": "stream",
          "name": "stdout",
          "text": [
            "toxic\n",
            "Train AUC: 0.9955593481369647 Test AUC: 0.9605371697993328\n",
            "              precision    recall  f1-score   support\n",
            "\n",
            "         0.0       0.98      0.97      0.97     28844\n",
            "         1.0       0.74      0.78      0.76      3071\n",
            "\n",
            "    accuracy                           0.95     31915\n",
            "   macro avg       0.86      0.87      0.87     31915\n",
            "weighted avg       0.95      0.95      0.95     31915\n",
            "\n",
            "severe_toxic\n",
            "Train AUC: 0.9955340397734171 Test AUC: 0.9821836051019912\n",
            "              precision    recall  f1-score   support\n",
            "\n",
            "         0.0       0.99      0.99      0.99     31614\n",
            "         1.0       0.44      0.46      0.45       301\n",
            "\n",
            "    accuracy                           0.99     31915\n",
            "   macro avg       0.72      0.73      0.72     31915\n",
            "weighted avg       0.99      0.99      0.99     31915\n",
            "\n",
            "obscene\n",
            "Train AUC: 0.9977446363704712 Test AUC: 0.9832292544667296\n",
            "              precision    recall  f1-score   support\n",
            "\n",
            "         0.0       0.99      0.99      0.99     30274\n",
            "         1.0       0.78      0.78      0.78      1641\n",
            "\n",
            "    accuracy                           0.98     31915\n",
            "   macro avg       0.88      0.89      0.89     31915\n",
            "weighted avg       0.98      0.98      0.98     31915\n",
            "\n",
            "threat\n",
            "Train AUC: 0.9979861880878698 Test AUC: 0.9744261150388409\n",
            "              precision    recall  f1-score   support\n",
            "\n",
            "         0.0       1.00      1.00      1.00     31825\n",
            "         1.0       0.47      0.30      0.36        90\n",
            "\n",
            "    accuracy                           1.00     31915\n",
            "   macro avg       0.73      0.65      0.68     31915\n",
            "weighted avg       1.00      1.00      1.00     31915\n",
            "\n",
            "insult\n",
            "Train AUC: 0.9960345659189879 Test AUC: 0.9734379210712645\n",
            "              precision    recall  f1-score   support\n",
            "\n",
            "         0.0       0.98      0.99      0.98     30342\n",
            "         1.0       0.70      0.67      0.69      1573\n",
            "\n",
            "    accuracy                           0.97     31915\n",
            "   macro avg       0.84      0.83      0.84     31915\n",
            "weighted avg       0.97      0.97      0.97     31915\n",
            "\n",
            "identity_hate\n",
            "Train AUC: 0.9965205355799609 Test AUC: 0.9735105393468017\n",
            "              precision    recall  f1-score   support\n",
            "\n",
            "         0.0       1.00      1.00      1.00     31666\n",
            "         1.0       0.51      0.49      0.50       249\n",
            "\n",
            "    accuracy                           0.99     31915\n",
            "   macro avg       0.75      0.74      0.75     31915\n",
            "weighted avg       0.99      0.99      0.99     31915\n",
            "\n",
            "Average Train AUC: 0.9965632189779453 Average Test AUC: 0.9745541008041602\n"
          ]
        }
      ]
    },
    {
      "cell_type": "code",
      "source": [
        "from keras import backend as K\n",
        "def recall_m(y_true, y_pred):\n",
        "    true_positives = K.sum(K.round(K.clip(y_true * y_pred, 0, 1)))\n",
        "    possible_positives = K.sum(K.round(K.clip(y_true, 0, 1)))\n",
        "    recall = true_positives / (possible_positives + K.epsilon())\n",
        "    return recall\n",
        "\n",
        "def precision_m(y_true, y_pred):\n",
        "    true_positives = K.sum(K.round(K.clip(y_true * y_pred, 0, 1)))\n",
        "    predicted_positives = K.sum(K.round(K.clip(y_pred, 0, 1)))\n",
        "    precision = true_positives / (predicted_positives + K.epsilon())\n",
        "    return precision\n",
        "\n",
        "def f1_m(y_true, y_pred):\n",
        "    precision = precision_m(y_true, y_pred)\n",
        "    recall = recall_m(y_true, y_pred)\n",
        "    return 2*((precision*recall)/(precision+recall+K.epsilon()))"
      ],
      "metadata": {
        "id": "CDbcIJChftjF"
      },
      "execution_count": 24,
      "outputs": []
    },
    {
      "cell_type": "code",
      "source": [
        "y_test = y_test.astype('float64')\n",
        "y_pred_test = y_pred_test.astype('float64')"
      ],
      "metadata": {
        "id": "Y0QL1J1-vt_C"
      },
      "execution_count": 25,
      "outputs": []
    },
    {
      "cell_type": "code",
      "source": [
        "total = 0\n",
        "for i in range(6):\n",
        "  curr_f1 = f1_m(y_test[:,i],y_pred_test[:,i]).numpy()\n",
        "  print(str(list_classes[i]) + \" f1 score: \" + str(curr_f1))\n",
        "  total += curr_f1\n",
        "avg_f1 = total/6\n",
        "avg_f1\n"
      ],
      "metadata": {
        "colab": {
          "base_uri": "https://localhost:8080/"
        },
        "id": "XbcbdipUyn_y",
        "outputId": "31a0b3da-8c7d-4a99-8f94-7e6055078e1a"
      },
      "execution_count": 26,
      "outputs": [
        {
          "output_type": "stream",
          "name": "stdout",
          "text": [
            "toxic f1 score: 0.7602543220225894\n",
            "severe_toxic f1 score: 0.44732571973868995\n",
            "obscene f1 score: 0.7825029876199965\n",
            "threat f1 score: 0.3648648167092831\n",
            "insult f1 score: 0.6872963669239817\n",
            "identity_hate f1 score: 0.4989690219951161\n"
          ]
        },
        {
          "output_type": "execute_result",
          "data": {
            "text/plain": [
              "0.5902022058349429"
            ]
          },
          "metadata": {},
          "execution_count": 26
        }
      ]
    },
    {
      "cell_type": "code",
      "source": [
        ""
      ],
      "metadata": {
        "id": "1QcKa0t4K-W1"
      },
      "execution_count": null,
      "outputs": []
    }
  ],
  "metadata": {
    "kernelspec": {
      "display_name": "Python 3",
      "language": "python",
      "name": "python3"
    },
    "language_info": {
      "codemirror_mode": {
        "name": "ipython",
        "version": 3
      },
      "file_extension": ".py",
      "mimetype": "text/x-python",
      "name": "python",
      "nbconvert_exporter": "python",
      "pygments_lexer": "ipython3",
      "version": "3.8.8"
    },
    "colab": {
      "name": "LSTM_with_GloVe.ipynb",
      "provenance": [],
      "collapsed_sections": []
    }
  },
  "nbformat": 4,
  "nbformat_minor": 0
}
